{
 "cells": [
  {
   "cell_type": "markdown",
   "metadata": {},
   "source": [
    "# 1. Import Dependencies"
   ]
  },
  {
   "cell_type": "code",
   "execution_count": 3,
   "metadata": {},
   "outputs": [
    {
     "name": "stdout",
     "output_type": "stream",
     "text": [
      "Requirement already satisfied: opencv-python in c:\\users\\alexander\\appdata\\local\\programs\\python\\python38\\lib\\site-packages (4.5.5.62)\n",
      "Requirement already satisfied: numpy>=1.14.5 in c:\\users\\alexander\\appdata\\local\\programs\\python\\python38\\lib\\site-packages (from opencv-python) (1.20.3)\n"
     ]
    },
    {
     "name": "stderr",
     "output_type": "stream",
     "text": [
      "WARNING: You are using pip version 22.0.3; however, version 22.0.4 is available.\n",
      "You should consider upgrading via the 'c:\\users\\alexander\\appdata\\local\\programs\\python\\python38\\python.exe -m pip install --upgrade pip' command.\n"
     ]
    }
   ],
   "source": [
    "!pip install opencv-python"
   ]
  },
  {
   "cell_type": "code",
   "execution_count": 1,
   "metadata": {},
   "outputs": [],
   "source": [
    "# Import opencv\n",
    "import cv2 \n",
    "\n",
    "# Import uuid\n",
    "import uuid\n",
    "\n",
    "# Import Operating System\n",
    "import os\n",
    "\n",
    "# Import time\n",
    "import time"
   ]
  },
  {
   "cell_type": "markdown",
   "metadata": {},
   "source": [
    "# 2. Define Images to Collect"
   ]
  },
  {
   "cell_type": "code",
   "execution_count": 5,
   "metadata": {},
   "outputs": [],
   "source": [
    "labels = ['lens','guidewire']\n",
    "number_imgs = 5"
   ]
  },
  {
   "cell_type": "markdown",
   "metadata": {},
   "source": [
    "# 3. Setup Folders "
   ]
  },
  {
   "cell_type": "code",
   "execution_count": 6,
   "metadata": {},
   "outputs": [],
   "source": [
    "IMAGES_PATH = os.path.join('Tensorflow', 'workspace', 'images', 'collectedimages')"
   ]
  },
  {
   "cell_type": "code",
   "execution_count": 7,
   "metadata": {},
   "outputs": [],
   "source": [
    "if not os.path.exists(IMAGES_PATH):\n",
    "    if os.name == 'posix':\n",
    "        !mkdir -p {IMAGES_PATH}\n",
    "    if os.name == 'nt':\n",
    "         !mkdir {IMAGES_PATH}\n",
    "for label in labels:\n",
    "    path = os.path.join(IMAGES_PATH, label)\n",
    "    if not os.path.exists(path):\n",
    "        !mkdir {path}"
   ]
  },
  {
   "cell_type": "markdown",
   "metadata": {},
   "source": [
    "# 4. Capture Images"
   ]
  },
  {
   "cell_type": "code",
   "execution_count": 18,
   "metadata": {},
   "outputs": [
    {
     "name": "stdout",
     "output_type": "stream",
     "text": [
      "Collecting images for thumbsup\n",
      "Collecting image 0\n",
      "Collecting image 1\n",
      "Collecting image 2\n",
      "Collecting image 3\n",
      "Collecting image 4\n"
     ]
    }
   ],
   "source": [
    "for label in labels:\n",
    "    cap = cv2.VideoCapture(0)\n",
    "    print('Collecting images for {}'.format(label))\n",
    "    time.sleep(5)\n",
    "    for imgnum in range(number_imgs):\n",
    "        print('Collecting image {}'.format(imgnum))\n",
    "        ret, frame = cap.read()\n",
    "        imgname = os.path.join(IMAGES_PATH,label,label+'.'+'{}.jpg'.format(str(uuid.uuid1())))\n",
    "        cv2.imwrite(imgname, frame)\n",
    "        cv2.imshow('frame', frame)\n",
    "        time.sleep(2)\n",
    "\n",
    "        if cv2.waitKey(1) & 0xFF == ord('q'):\n",
    "            break\n",
    "cap.release()\n",
    "cv2.destroyAllWindows()"
   ]
  },
  {
   "cell_type": "markdown",
   "metadata": {},
   "source": [
    "# 5. Image Labelling"
   ]
  },
  {
   "cell_type": "code",
   "execution_count": 8,
   "metadata": {},
   "outputs": [
    {
     "name": "stdout",
     "output_type": "stream",
     "text": [
      "Requirement already satisfied: pyqt5 in c:\\users\\alexander\\appdata\\local\\programs\\python\\python38\\lib\\site-packages (5.15.6)"
     ]
    },
    {
     "name": "stderr",
     "output_type": "stream",
     "text": [
      "WARNING: You are using pip version 22.0.3; however, version 22.0.4 is available.\n",
      "You should consider upgrading via the 'c:\\users\\alexander\\appdata\\local\\programs\\python\\python38\\python.exe -m pip install --upgrade pip' command.\n"
     ]
    },
    {
     "name": "stdout",
     "output_type": "stream",
     "text": [
      "\n",
      "Requirement already satisfied: lxml in c:\\users\\alexander\\appdata\\local\\programs\\python\\python38\\lib\\site-packages (4.8.0)\n",
      "Requirement already satisfied: PyQt5-sip<13,>=12.8 in c:\\users\\alexander\\appdata\\local\\programs\\python\\python38\\lib\\site-packages (from pyqt5) (12.9.1)\n",
      "Requirement already satisfied: PyQt5-Qt5>=5.15.2 in c:\\users\\alexander\\appdata\\local\\programs\\python\\python38\\lib\\site-packages (from pyqt5) (5.15.2)\n"
     ]
    }
   ],
   "source": [
    "!pip install --upgrade pyqt5 lxml"
   ]
  },
  {
   "cell_type": "code",
   "execution_count": 3,
   "metadata": {},
   "outputs": [],
   "source": [
    "LABELIMG_PATH = os.path.join('Tensorflow', 'labelimg')"
   ]
  },
  {
   "cell_type": "code",
   "execution_count": 4,
   "metadata": {},
   "outputs": [],
   "source": [
    "if not os.path.exists(LABELIMG_PATH):\n",
    "    !mkdir {LABELIMG_PATH}\n",
    "    !git clone https://github.com/tzutalin/labelImg {LABELIMG_PATH}"
   ]
  },
  {
   "cell_type": "code",
   "execution_count": 5,
   "metadata": {},
   "outputs": [],
   "source": [
    "if os.name == 'posix':\n",
    "    !make qt5py3\n",
    "if os.name =='nt':\n",
    "    !cd {LABELIMG_PATH} && pyrcc5 -o libs/resources.py resources.qrc"
   ]
  },
  {
   "cell_type": "code",
   "execution_count": 6,
   "metadata": {},
   "outputs": [
    {
     "name": "stdout",
     "output_type": "stream",
     "text": [
      "Image:C:\\Users\\Alexander\\Desktop\\TFOD_course\\TFODCourse\\Tensorflow\\workspace\\images\\collectedimages\\forward (1).jpg -> Annotation:C:/Users/Alexander/Desktop/TFOD_course/TFODCourse/Tensorflow/workspace/images/collectedimages/forward (1).xml\n",
      "Image:C:\\Users\\Alexander\\Desktop\\TFOD_course\\TFODCourse\\Tensorflow\\workspace\\images\\collectedimages\\forward (2).jpg -> Annotation:C:/Users/Alexander/Desktop/TFOD_course/TFODCourse/Tensorflow/workspace/images/collectedimages/forward (2).xml\n",
      "Image:C:\\Users\\Alexander\\Desktop\\TFOD_course\\TFODCourse\\Tensorflow\\workspace\\images\\collectedimages\\forward (3).jpg -> Annotation:C:/Users/Alexander/Desktop/TFOD_course/TFODCourse/Tensorflow/workspace/images/collectedimages/forward (3).xml\n",
      "Image:C:\\Users\\Alexander\\Desktop\\TFOD_course\\TFODCourse\\Tensorflow\\workspace\\images\\collectedimages\\forward (4).jpg -> Annotation:C:/Users/Alexander/Desktop/TFOD_course/TFODCourse/Tensorflow/workspace/images/collectedimages/forward (4).xml\n",
      "Image:C:\\Users\\Alexander\\Desktop\\TFOD_course\\TFODCourse\\Tensorflow\\workspace\\images\\collectedimages\\forward (5).jpg -> Annotation:C:/Users/Alexander/Desktop/TFOD_course/TFODCourse/Tensorflow/workspace/images/collectedimages/forward (5).xml\n",
      "Image:C:\\Users\\Alexander\\Desktop\\TFOD_course\\TFODCourse\\Tensorflow\\workspace\\images\\collectedimages\\forward (6).jpg -> Annotation:C:/Users/Alexander/Desktop/TFOD_course/TFODCourse/Tensorflow/workspace/images/collectedimages/forward (6).xml\n",
      "Image:C:\\Users\\Alexander\\Desktop\\TFOD_course\\TFODCourse\\Tensorflow\\workspace\\images\\collectedimages\\forward (7).jpg -> Annotation:C:/Users/Alexander/Desktop/TFOD_course/TFODCourse/Tensorflow/workspace/images/collectedimages/forward (7).xml\n",
      "Image:C:\\Users\\Alexander\\Desktop\\TFOD_course\\TFODCourse\\Tensorflow\\workspace\\images\\collectedimages\\forward (8).jpg -> Annotation:C:/Users/Alexander/Desktop/TFOD_course/TFODCourse/Tensorflow/workspace/images/collectedimages/forward (8).xml\n",
      "Image:C:\\Users\\Alexander\\Desktop\\TFOD_course\\TFODCourse\\Tensorflow\\workspace\\images\\collectedimages\\forward (9).jpg -> Annotation:C:/Users/Alexander/Desktop/TFOD_course/TFODCourse/Tensorflow/workspace/images/collectedimages/forward (9).xml\n",
      "Image:C:\\Users\\Alexander\\Desktop\\TFOD_course\\TFODCourse\\Tensorflow\\workspace\\images\\collectedimages\\forward (10).jpg -> Annotation:C:/Users/Alexander/Desktop/TFOD_course/TFODCourse/Tensorflow/workspace/images/collectedimages/forward (10).xml\n",
      "Image:C:\\Users\\Alexander\\Desktop\\TFOD_course\\TFODCourse\\Tensorflow\\workspace\\images\\collectedimages\\forward (11).jpg -> Annotation:C:/Users/Alexander/Desktop/TFOD_course/TFODCourse/Tensorflow/workspace/images/collectedimages/forward (11).xml\n",
      "Image:C:\\Users\\Alexander\\Desktop\\TFOD_course\\TFODCourse\\Tensorflow\\workspace\\images\\collectedimages\\forward (12).jpg -> Annotation:C:/Users/Alexander/Desktop/TFOD_course/TFODCourse/Tensorflow/workspace/images/collectedimages/forward (12).xml\n",
      "Image:C:\\Users\\Alexander\\Desktop\\TFOD_course\\TFODCourse\\Tensorflow\\workspace\\images\\collectedimages\\forward (13).jpg -> Annotation:C:/Users/Alexander/Desktop/TFOD_course/TFODCourse/Tensorflow/workspace/images/collectedimages/forward (13).xml\n",
      "Image:C:\\Users\\Alexander\\Desktop\\TFOD_course\\TFODCourse\\Tensorflow\\workspace\\images\\collectedimages\\forward (14).jpg -> Annotation:C:/Users/Alexander/Desktop/TFOD_course/TFODCourse/Tensorflow/workspace/images/collectedimages/forward (14).xml\n",
      "Image:C:\\Users\\Alexander\\Desktop\\TFOD_course\\TFODCourse\\Tensorflow\\workspace\\images\\collectedimages\\forward (15).jpg -> Annotation:C:/Users/Alexander/Desktop/TFOD_course/TFODCourse/Tensorflow/workspace/images/collectedimages/forward (15).xml\n",
      "Image:C:\\Users\\Alexander\\Desktop\\TFOD_course\\TFODCourse\\Tensorflow\\workspace\\images\\collectedimages\\reverse (1).jpg -> Annotation:C:/Users/Alexander/Desktop/TFOD_course/TFODCourse/Tensorflow/workspace/images/collectedimages/reverse (1).xml\n",
      "Image:C:\\Users\\Alexander\\Desktop\\TFOD_course\\TFODCourse\\Tensorflow\\workspace\\images\\collectedimages\\reverse (2).jpg -> Annotation:C:/Users/Alexander/Desktop/TFOD_course/TFODCourse/Tensorflow/workspace/images/collectedimages/reverse (2).xml\n",
      "Image:C:\\Users\\Alexander\\Desktop\\TFOD_course\\TFODCourse\\Tensorflow\\workspace\\images\\collectedimages\\reverse (3).jpg -> Annotation:C:/Users/Alexander/Desktop/TFOD_course/TFODCourse/Tensorflow/workspace/images/collectedimages/reverse (3).xml\n",
      "Image:C:\\Users\\Alexander\\Desktop\\TFOD_course\\TFODCourse\\Tensorflow\\workspace\\images\\collectedimages\\reverse (4).jpg -> Annotation:C:/Users/Alexander/Desktop/TFOD_course/TFODCourse/Tensorflow/workspace/images/collectedimages/reverse (4).xml\n",
      "Image:C:\\Users\\Alexander\\Desktop\\TFOD_course\\TFODCourse\\Tensorflow\\workspace\\images\\collectedimages\\reverse (5).jpg -> Annotation:C:/Users/Alexander/Desktop/TFOD_course/TFODCourse/Tensorflow/workspace/images/collectedimages/reverse (5).xml\n",
      "Image:C:\\Users\\Alexander\\Desktop\\TFOD_course\\TFODCourse\\Tensorflow\\workspace\\images\\collectedimages\\reverse (6).jpg -> Annotation:C:/Users/Alexander/Desktop/TFOD_course/TFODCourse/Tensorflow/workspace/images/collectedimages/reverse (6).xml\n",
      "Image:C:\\Users\\Alexander\\Desktop\\TFOD_course\\TFODCourse\\Tensorflow\\workspace\\images\\collectedimages\\reverse (7).jpg -> Annotation:C:/Users/Alexander/Desktop/TFOD_course/TFODCourse/Tensorflow/workspace/images/collectedimages/reverse (7).xml\n",
      "Image:C:\\Users\\Alexander\\Desktop\\TFOD_course\\TFODCourse\\Tensorflow\\workspace\\images\\collectedimages\\reverse (8).jpg -> Annotation:C:/Users/Alexander/Desktop/TFOD_course/TFODCourse/Tensorflow/workspace/images/collectedimages/reverse (8).xml\n",
      "Image:C:\\Users\\Alexander\\Desktop\\TFOD_course\\TFODCourse\\Tensorflow\\workspace\\images\\collectedimages\\reverse (9).jpg -> Annotation:C:/Users/Alexander/Desktop/TFOD_course/TFODCourse/Tensorflow/workspace/images/collectedimages/reverse (9).xml\n",
      "Image:C:\\Users\\Alexander\\Desktop\\TFOD_course\\TFODCourse\\Tensorflow\\workspace\\images\\collectedimages\\reverse (10).jpg -> Annotation:C:/Users/Alexander/Desktop/TFOD_course/TFODCourse/Tensorflow/workspace/images/collectedimages/reverse (10).xml\n",
      "Image:C:\\Users\\Alexander\\Desktop\\TFOD_course\\TFODCourse\\Tensorflow\\workspace\\images\\collectedimages\\reverse (11).jpg -> Annotation:C:/Users/Alexander/Desktop/TFOD_course/TFODCourse/Tensorflow/workspace/images/collectedimages/reverse (11).xml\n",
      "Image:C:\\Users\\Alexander\\Desktop\\TFOD_course\\TFODCourse\\Tensorflow\\workspace\\images\\collectedimages\\reverse (12).jpg -> Annotation:C:/Users/Alexander/Desktop/TFOD_course/TFODCourse/Tensorflow/workspace/images/collectedimages/reverse (12).xml\n",
      "Image:C:\\Users\\Alexander\\Desktop\\TFOD_course\\TFODCourse\\Tensorflow\\workspace\\images\\collectedimages\\reverse (13).jpg -> Annotation:C:/Users/Alexander/Desktop/TFOD_course/TFODCourse/Tensorflow/workspace/images/collectedimages/reverse (13).xml\n",
      "Image:C:\\Users\\Alexander\\Desktop\\TFOD_course\\TFODCourse\\Tensorflow\\workspace\\images\\collectedimages\\reverse (14).jpg -> Annotation:C:/Users/Alexander/Desktop/TFOD_course/TFODCourse/Tensorflow/workspace/images/collectedimages/reverse (14).xml\n",
      "Image:C:\\Users\\Alexander\\Desktop\\TFOD_course\\TFODCourse\\Tensorflow\\workspace\\images\\collectedimages\\reverse (15).jpg -> Annotation:C:/Users/Alexander/Desktop/TFOD_course/TFODCourse/Tensorflow/workspace/images/collectedimages/reverse (15).xml\n"
     ]
    },
    {
     "name": "stderr",
     "output_type": "stream",
     "text": [
      "labelImg.py:965: DeprecationWarning: an integer is required (got type float).  Implicit conversion to integers using __int__ is deprecated, and may be removed in a future version of Python.\n",
      "  bar.setValue(bar.value() + bar.singleStep() * units)\n"
     ]
    }
   ],
   "source": [
    "!cd {LABELIMG_PATH} && python labelImg.py"
   ]
  },
  {
   "cell_type": "markdown",
   "metadata": {},
   "source": [
    "# 6. Move them into a Training and Testing Partition"
   ]
  },
  {
   "cell_type": "markdown",
   "metadata": {},
   "source": [
    "# OPTIONAL - 7. Compress them for Colab Training"
   ]
  },
  {
   "cell_type": "code",
   "execution_count": 15,
   "metadata": {},
   "outputs": [],
   "source": [
    "TRAIN_PATH = os.path.join('Tensorflow', 'workspace', 'images', 'train')\n",
    "TEST_PATH = os.path.join('Tensorflow', 'workspace', 'images', 'test')\n",
    "ARCHIVE_PATH = os.path.join('Tensorflow', 'workspace', 'images', 'archive.tar.gz')"
   ]
  },
  {
   "cell_type": "code",
   "execution_count": 16,
   "metadata": {},
   "outputs": [
    {
     "name": "stderr",
     "output_type": "stream",
     "text": [
      "'tar' is not recognized as an internal or external command,\n",
      "operable program or batch file.\n"
     ]
    }
   ],
   "source": [
    "!tar -czf {ARCHIVE_PATH} {TRAIN_PATH} {TEST_PATH}"
   ]
  },
  {
   "cell_type": "code",
   "execution_count": null,
   "metadata": {},
   "outputs": [],
   "source": []
  }
 ],
 "metadata": {
  "kernelspec": {
   "display_name": "tfod",
   "language": "python",
   "name": "tfod"
  },
  "language_info": {
   "codemirror_mode": {
    "name": "ipython",
    "version": 3
   },
   "file_extension": ".py",
   "mimetype": "text/x-python",
   "name": "python",
   "nbconvert_exporter": "python",
   "pygments_lexer": "ipython3",
   "version": "3.8.10"
  }
 },
 "nbformat": 4,
 "nbformat_minor": 2
}
